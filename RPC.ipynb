{
 "cells": [
  {
   "cell_type": "code",
   "execution_count": 1,
   "id": "3bdb5c47-c94b-43ef-a29e-2bb14c655763",
   "metadata": {},
   "outputs": [
    {
     "name": "stdout",
     "output_type": "stream",
     "text": [
      "\n",
      "Rock, Paper, Scissors\n",
      "Enter your choice (rock/paper/scissors) or 'q' to quit:\n"
     ]
    },
    {
     "name": "stdin",
     "output_type": "stream",
     "text": [
      " rock\n"
     ]
    },
    {
     "name": "stdout",
     "output_type": "stream",
     "text": [
      "Computer wins!\n",
      "\n",
      "Scorecard:\n",
      "Player wins: 0\n",
      "Computer wins: 1\n",
      "Ties: 0\n",
      "\n",
      "Rock, Paper, Scissors\n",
      "Enter your choice (rock/paper/scissors) or 'q' to quit:\n"
     ]
    },
    {
     "name": "stdin",
     "output_type": "stream",
     "text": [
      " paper\n"
     ]
    },
    {
     "name": "stdout",
     "output_type": "stream",
     "text": [
      "It's a tie!\n",
      "\n",
      "Scorecard:\n",
      "Player wins: 0\n",
      "Computer wins: 1\n",
      "Ties: 1\n",
      "\n",
      "Rock, Paper, Scissors\n",
      "Enter your choice (rock/paper/scissors) or 'q' to quit:\n"
     ]
    },
    {
     "name": "stdin",
     "output_type": "stream",
     "text": [
      " scissor\n"
     ]
    },
    {
     "name": "stdout",
     "output_type": "stream",
     "text": [
      "Invalid choice! Please enter 'rock', 'paper', or 'scissors'.\n",
      "\n",
      "Rock, Paper, Scissors\n",
      "Enter your choice (rock/paper/scissors) or 'q' to quit:\n"
     ]
    },
    {
     "name": "stdin",
     "output_type": "stream",
     "text": [
      " scissors\n"
     ]
    },
    {
     "name": "stdout",
     "output_type": "stream",
     "text": [
      "It's a tie!\n",
      "\n",
      "Scorecard:\n",
      "Player wins: 0\n",
      "Computer wins: 1\n",
      "Ties: 2\n",
      "\n",
      "Rock, Paper, Scissors\n",
      "Enter your choice (rock/paper/scissors) or 'q' to quit:\n"
     ]
    },
    {
     "name": "stdin",
     "output_type": "stream",
     "text": [
      " rock\n"
     ]
    },
    {
     "name": "stdout",
     "output_type": "stream",
     "text": [
      "It's a tie!\n",
      "\n",
      "Scorecard:\n",
      "Player wins: 0\n",
      "Computer wins: 1\n",
      "Ties: 3\n",
      "\n",
      "Rock, Paper, Scissors\n",
      "Enter your choice (rock/paper/scissors) or 'q' to quit:\n"
     ]
    },
    {
     "name": "stdin",
     "output_type": "stream",
     "text": [
      " rock\n"
     ]
    },
    {
     "name": "stdout",
     "output_type": "stream",
     "text": [
      "It's a tie!\n",
      "\n",
      "Scorecard:\n",
      "Player wins: 0\n",
      "Computer wins: 1\n",
      "Ties: 4\n",
      "\n",
      "Rock, Paper, Scissors\n",
      "Enter your choice (rock/paper/scissors) or 'q' to quit:\n"
     ]
    },
    {
     "name": "stdin",
     "output_type": "stream",
     "text": [
      " paper\n"
     ]
    },
    {
     "name": "stdout",
     "output_type": "stream",
     "text": [
      "You win!\n",
      "\n",
      "Scorecard:\n",
      "Player wins: 1\n",
      "Computer wins: 1\n",
      "Ties: 4\n",
      "\n",
      "Rock, Paper, Scissors\n",
      "Enter your choice (rock/paper/scissors) or 'q' to quit:\n"
     ]
    },
    {
     "name": "stdin",
     "output_type": "stream",
     "text": [
      " scissors\n"
     ]
    },
    {
     "name": "stdout",
     "output_type": "stream",
     "text": [
      "Computer wins!\n",
      "\n",
      "Scorecard:\n",
      "Player wins: 1\n",
      "Computer wins: 2\n",
      "Ties: 4\n",
      "\n",
      "Rock, Paper, Scissors\n",
      "Enter your choice (rock/paper/scissors) or 'q' to quit:\n"
     ]
    },
    {
     "name": "stdin",
     "output_type": "stream",
     "text": [
      " rock\n"
     ]
    },
    {
     "name": "stdout",
     "output_type": "stream",
     "text": [
      "It's a tie!\n",
      "\n",
      "Scorecard:\n",
      "Player wins: 1\n",
      "Computer wins: 2\n",
      "Ties: 5\n",
      "\n",
      "Rock, Paper, Scissors\n",
      "Enter your choice (rock/paper/scissors) or 'q' to quit:\n"
     ]
    },
    {
     "name": "stdin",
     "output_type": "stream",
     "text": [
      " rock\n"
     ]
    },
    {
     "name": "stdout",
     "output_type": "stream",
     "text": [
      "It's a tie!\n",
      "\n",
      "Scorecard:\n",
      "Player wins: 1\n",
      "Computer wins: 2\n",
      "Ties: 6\n",
      "\n",
      "Rock, Paper, Scissors\n",
      "Enter your choice (rock/paper/scissors) or 'q' to quit:\n"
     ]
    },
    {
     "name": "stdin",
     "output_type": "stream",
     "text": [
      " paper\n"
     ]
    },
    {
     "name": "stdout",
     "output_type": "stream",
     "text": [
      "It's a tie!\n",
      "\n",
      "Scorecard:\n",
      "Player wins: 1\n",
      "Computer wins: 2\n",
      "Ties: 7\n",
      "\n",
      "Rock, Paper, Scissors\n",
      "Enter your choice (rock/paper/scissors) or 'q' to quit:\n"
     ]
    },
    {
     "name": "stdin",
     "output_type": "stream",
     "text": [
      " paper\n"
     ]
    },
    {
     "name": "stdout",
     "output_type": "stream",
     "text": [
      "Computer wins!\n",
      "\n",
      "Scorecard:\n",
      "Player wins: 1\n",
      "Computer wins: 3\n",
      "Ties: 7\n",
      "\n",
      "Rock, Paper, Scissors\n",
      "Enter your choice (rock/paper/scissors) or 'q' to quit:\n"
     ]
    },
    {
     "name": "stdin",
     "output_type": "stream",
     "text": [
      " paper\n"
     ]
    },
    {
     "name": "stdout",
     "output_type": "stream",
     "text": [
      "You win!\n",
      "\n",
      "Scorecard:\n",
      "Player wins: 2\n",
      "Computer wins: 3\n",
      "Ties: 7\n",
      "\n",
      "Rock, Paper, Scissors\n",
      "Enter your choice (rock/paper/scissors) or 'q' to quit:\n"
     ]
    },
    {
     "name": "stdin",
     "output_type": "stream",
     "text": [
      " paperr\n"
     ]
    },
    {
     "name": "stdout",
     "output_type": "stream",
     "text": [
      "Invalid choice! Please enter 'rock', 'paper', or 'scissors'.\n",
      "\n",
      "Rock, Paper, Scissors\n",
      "Enter your choice (rock/paper/scissors) or 'q' to quit:\n"
     ]
    },
    {
     "name": "stdin",
     "output_type": "stream",
     "text": [
      " paper\n"
     ]
    },
    {
     "name": "stdout",
     "output_type": "stream",
     "text": [
      "You win!\n",
      "\n",
      "Scorecard:\n",
      "Player wins: 3\n",
      "Computer wins: 3\n",
      "Ties: 7\n",
      "\n",
      "Rock, Paper, Scissors\n",
      "Enter your choice (rock/paper/scissors) or 'q' to quit:\n"
     ]
    },
    {
     "name": "stdin",
     "output_type": "stream",
     "text": [
      " paper\n"
     ]
    },
    {
     "name": "stdout",
     "output_type": "stream",
     "text": [
      "You win!\n",
      "\n",
      "Scorecard:\n",
      "Player wins: 4\n",
      "Computer wins: 3\n",
      "Ties: 7\n",
      "\n",
      "Rock, Paper, Scissors\n",
      "Enter your choice (rock/paper/scissors) or 'q' to quit:\n"
     ]
    },
    {
     "name": "stdin",
     "output_type": "stream",
     "text": [
      " paper\n"
     ]
    },
    {
     "name": "stdout",
     "output_type": "stream",
     "text": [
      "It's a tie!\n",
      "\n",
      "Scorecard:\n",
      "Player wins: 4\n",
      "Computer wins: 3\n",
      "Ties: 8\n",
      "\n",
      "Rock, Paper, Scissors\n",
      "Enter your choice (rock/paper/scissors) or 'q' to quit:\n"
     ]
    },
    {
     "name": "stdin",
     "output_type": "stream",
     "text": [
      " paper\n"
     ]
    },
    {
     "name": "stdout",
     "output_type": "stream",
     "text": [
      "You win!\n",
      "\n",
      "Scorecard:\n",
      "Player wins: 5\n",
      "Computer wins: 3\n",
      "Ties: 8\n",
      "\n",
      "Rock, Paper, Scissors\n",
      "Enter your choice (rock/paper/scissors) or 'q' to quit:\n"
     ]
    },
    {
     "name": "stdin",
     "output_type": "stream",
     "text": [
      " paper\n"
     ]
    },
    {
     "name": "stdout",
     "output_type": "stream",
     "text": [
      "It's a tie!\n",
      "\n",
      "Scorecard:\n",
      "Player wins: 5\n",
      "Computer wins: 3\n",
      "Ties: 9\n",
      "\n",
      "Rock, Paper, Scissors\n",
      "Enter your choice (rock/paper/scissors) or 'q' to quit:\n"
     ]
    },
    {
     "name": "stdin",
     "output_type": "stream",
     "text": [
      " paper\n"
     ]
    },
    {
     "name": "stdout",
     "output_type": "stream",
     "text": [
      "It's a tie!\n",
      "\n",
      "Scorecard:\n",
      "Player wins: 5\n",
      "Computer wins: 3\n",
      "Ties: 10\n",
      "\n",
      "Rock, Paper, Scissors\n",
      "Enter your choice (rock/paper/scissors) or 'q' to quit:\n"
     ]
    },
    {
     "name": "stdin",
     "output_type": "stream",
     "text": [
      " q\n"
     ]
    },
    {
     "name": "stdout",
     "output_type": "stream",
     "text": [
      "Thanks for playing!\n"
     ]
    }
   ],
   "source": [
    "import random\n",
    "\n",
    "# Function to play a single round of Rock, Paper, Scissors\n",
    "def play_round(player_choice):\n",
    "    choices = ['rock', 'paper', 'scissors']\n",
    "    computer_choice = random.choice(choices)\n",
    "\n",
    "    if player_choice == computer_choice:\n",
    "        return 'tie'\n",
    "    elif (player_choice == 'rock' and computer_choice == 'scissors') or \\\n",
    "         (player_choice == 'paper' and computer_choice == 'rock') or \\\n",
    "         (player_choice == 'scissors' and computer_choice == 'paper'):\n",
    "        return 'player'\n",
    "    else:\n",
    "        return 'computer'\n",
    "\n",
    "# Function to display the current score\n",
    "def display_score(player_wins, computer_wins, ties):\n",
    "    print(\"\\nScorecard:\")\n",
    "    print(\"Player wins:\", player_wins)\n",
    "    print(\"Computer wins:\", computer_wins)\n",
    "    print(\"Ties:\", ties)\n",
    "\n",
    "# Main game loop\n",
    "def gameLoop():\n",
    "    player_wins = 0\n",
    "    computer_wins = 0\n",
    "    ties = 0\n",
    "\n",
    "    while True:\n",
    "        print(\"\\nRock, Paper, Scissors\")\n",
    "        print(\"Enter your choice (rock/paper/scissors) or 'q' to quit:\")\n",
    "        player_choice = input().lower()\n",
    "\n",
    "        if player_choice == 'q':\n",
    "            break\n",
    "        elif player_choice not in ['rock', 'paper', 'scissors']:\n",
    "            print(\"Invalid choice! Please enter 'rock', 'paper', or 'scissors'.\")\n",
    "            continue\n",
    "\n",
    "        result = play_round(player_choice)\n",
    "\n",
    "        if result == 'player':\n",
    "            print(\"You win!\")\n",
    "            player_wins += 1\n",
    "        elif result == 'computer':\n",
    "            print(\"Computer wins!\")\n",
    "            computer_wins += 1\n",
    "        else:\n",
    "            print(\"It's a tie!\")\n",
    "            ties += 1\n",
    "\n",
    "        display_score(player_wins, computer_wins, ties)\n",
    "\n",
    "    print(\"Thanks for playing!\")\n",
    "\n",
    "# Start the game\n",
    "gameLoop()\n"
   ]
  }
 ],
 "metadata": {
  "kernelspec": {
   "display_name": "Python 3 (ipykernel)",
   "language": "python",
   "name": "python3"
  },
  "language_info": {
   "codemirror_mode": {
    "name": "ipython",
    "version": 3
   },
   "file_extension": ".py",
   "mimetype": "text/x-python",
   "name": "python",
   "nbconvert_exporter": "python",
   "pygments_lexer": "ipython3",
   "version": "3.12.2"
  }
 },
 "nbformat": 4,
 "nbformat_minor": 5
}
